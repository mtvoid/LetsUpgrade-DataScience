{
 "cells": [
  {
   "cell_type": "markdown",
   "metadata": {},
   "source": [
    "# 1. List of even numbers"
   ]
  },
  {
   "cell_type": "code",
   "execution_count": 7,
   "metadata": {},
   "outputs": [
    {
     "name": "stdout",
     "output_type": "stream",
     "text": [
      "1\n",
      "3\n",
      "4\n",
      "5\n",
      "2\n",
      "6\n",
      "7\n",
      "8\n",
      "10\n",
      "9\n",
      "[4, 2, 6, 8, 10]\n"
     ]
    }
   ],
   "source": [
    "# Input ten numbers, and add them to the output list if they are even\n",
    "evens = []\n",
    "for i in range(10):\n",
    "    x = int(input())\n",
    "    if x%2 == 0:\n",
    "        evens.append(x)\n",
    "print(evens)"
   ]
  },
  {
   "cell_type": "markdown",
   "metadata": {},
   "source": [
    "# 2. List Comprehension"
   ]
  },
  {
   "cell_type": "code",
   "execution_count": 31,
   "metadata": {},
   "outputs": [
    {
     "name": "stdout",
     "output_type": "stream",
     "text": [
      "[0, 1, 4, 9, 16, 25, 36, 49, 64, 81]\n",
      "[0, 2, 4, 6, 8]\n",
      "[1904, 1908, 1912, 1916, 1920, 1924, 1928, 1932, 1936, 1940, 1944, 1948, 1952, 1956, 1960, 1964, 1968, 1972, 1976, 1980, 1984, 1988, 1992, 1996, 2000, 2004, 2008, 2012, 2016, 2020]\n"
     ]
    }
   ],
   "source": [
    "# Simple examples of list comprehension in python\n",
    "# Create a list of squares\n",
    "squares = [i*i for i in range(10)]\n",
    "print(squares)\n",
    "# Create a list of even numbers\n",
    "evens = [i for i in range(10) if i%2 == 0]\n",
    "print(evens)\n",
    "# Create a list of leap years between 1900 and 2020\n",
    "leaps = [i for i in range(1900,2021) if i%4 == 0 and (i%100 != 0 or i%400 == 0)]\n",
    "print(leaps)"
   ]
  },
  {
   "cell_type": "markdown",
   "metadata": {},
   "source": [
    "# 3. Dictionary"
   ]
  },
  {
   "cell_type": "code",
   "execution_count": 35,
   "metadata": {},
   "outputs": [
    {
     "name": "stdout",
     "output_type": "stream",
     "text": [
      "10\n",
      "{1: 1, 2: 4, 3: 9, 4: 16, 5: 25, 6: 36, 7: 49, 8: 64, 9: 81, 10: 100}\n"
     ]
    }
   ],
   "source": [
    "# Demonstration of dictionary data structure in Python\n",
    "n = int(input())\n",
    "d = {i:i*i for i in range(1,n+1)}  # Create a dictionary of squares of the first n natural numbers\n",
    "print(d)"
   ]
  },
  {
   "cell_type": "markdown",
   "metadata": {},
   "source": [
    "# 4. Distance calculator"
   ]
  },
  {
   "cell_type": "code",
   "execution_count": 75,
   "metadata": {},
   "outputs": [
    {
     "name": "stdout",
     "output_type": "stream",
     "text": [
      "4\n",
      "UP 5\n",
      "LEFT 3\n",
      "DOWN 3\n",
      "RIGHT 2\n",
      "2\n"
     ]
    }
   ],
   "source": [
    "# Calculates the distance from the origin of a robot that moves in unit steps along normal axes\n",
    "import math\n",
    "d = {\"UP\":[0,1], \"DOWN\":[0,-1], \"LEFT\":[-1,0], \"RIGHT\":[1,0]}  # Dictionary encoding change in position for each direction\n",
    "n = int(input())  # Number of movements\n",
    "pos = [0,0] # Initialize location to origin\n",
    "for i in range(n):\n",
    "    dir,steps = input().split()\n",
    "    pos = [pos[i] + int(steps) * d[dir][i] for i in range(2)]\n",
    "# Calculate distance of final location from origin\n",
    "dist = round(math.sqrt(pos[0]**2 + pos[1]**2))\n",
    "print(int(dist))"
   ]
  }
 ],
 "metadata": {
  "kernelspec": {
   "display_name": "Python 3",
   "language": "python",
   "name": "python3"
  },
  "language_info": {
   "codemirror_mode": {
    "name": "ipython",
    "version": 3
   },
   "file_extension": ".py",
   "mimetype": "text/x-python",
   "name": "python",
   "nbconvert_exporter": "python",
   "pygments_lexer": "ipython3",
   "version": "3.8.3"
  }
 },
 "nbformat": 4,
 "nbformat_minor": 4
}
