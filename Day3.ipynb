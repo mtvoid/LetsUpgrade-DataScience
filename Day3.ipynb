{
 "cells": [
  {
   "cell_type": "markdown",
   "metadata": {},
   "source": [
    "# NumPy"
   ]
  },
  {
   "cell_type": "code",
   "execution_count": 1,
   "metadata": {},
   "outputs": [],
   "source": [
    "import numpy as np"
   ]
  },
  {
   "cell_type": "markdown",
   "metadata": {},
   "source": [
    "## 1. Creation of a 1-D array"
   ]
  },
  {
   "cell_type": "code",
   "execution_count": 10,
   "metadata": {},
   "outputs": [
    {
     "name": "stdout",
     "output_type": "stream",
     "text": [
      "[ 2  5  8 11 14 17 20 23 26 29 32 35 38 41 44 47 50]\n"
     ]
    }
   ],
   "source": [
    "# Array with values from from 2 to 50 with step size 3\n",
    "a = np.arange(2,51,3)\n",
    "print(a)"
   ]
  },
  {
   "cell_type": "markdown",
   "metadata": {},
   "source": [
    "## 2. Array from lists + array operations"
   ]
  },
  {
   "cell_type": "code",
   "execution_count": 34,
   "metadata": {},
   "outputs": [
    {
     "name": "stdout",
     "output_type": "stream",
     "text": [
      "4 7 8\n",
      "3 2 1\n",
      "[4 7 8]\n",
      "[3 2 1]\n",
      "[4 7 8 3 2 1]\n",
      "[1 2 3 4 7 8]\n"
     ]
    }
   ],
   "source": [
    "list_a = [int(i) for i in input().split()]\n",
    "list_b = [int(i) for i in input().split()]\n",
    "array_a = np.array(list_a)\n",
    "array_b = np.array(list_b)\n",
    "print(array_a)\n",
    "print(array_b)\n",
    "# Concatenation\n",
    "merged = np.concatenate([array_a,array_b])\n",
    "print(merged)\n",
    "# Sorting\n",
    "sorted = np.sort(merged)\n",
    "print(sorted)"
   ]
  },
  {
   "cell_type": "markdown",
   "metadata": {},
   "source": [
    "## 3. Dimensions and size of an ndarray"
   ]
  },
  {
   "cell_type": "code",
   "execution_count": 37,
   "metadata": {},
   "outputs": [
    {
     "name": "stdout",
     "output_type": "stream",
     "text": [
      "[[[ 1  2]\n",
      "  [ 3  4]\n",
      "  [ 5  6]]\n",
      "\n",
      " [[ 7  8]\n",
      "  [ 9 10]\n",
      "  [11 12]]\n",
      "\n",
      " [[13 14]\n",
      "  [15 16]\n",
      "  [17 18]]]\n",
      "3\n",
      "18\n"
     ]
    }
   ],
   "source": [
    "a = np.array([[[1,2],[3,4],[5,6]],[[7,8],[9,10],[11,12]],[[13,14],[15,16],[17,18]]]) # 3-D array\n",
    "print(a)\n",
    "print(a.ndim)\n",
    "print(a.size)"
   ]
  },
  {
   "cell_type": "markdown",
   "metadata": {},
   "source": [
    "## 4. Convert 1-D to 2-D array"
   ]
  },
  {
   "cell_type": "code",
   "execution_count": 49,
   "metadata": {},
   "outputs": [
    {
     "name": "stdout",
     "output_type": "stream",
     "text": [
      "[0 1 2 3 4 5 6 7 8] (9,)\n",
      "[[0 1 2 3 4 5 6 7 8]] (1, 9)\n",
      "[[0]\n",
      " [1]\n",
      " [2]\n",
      " [3]\n",
      " [4]\n",
      " [5]\n",
      " [6]\n",
      " [7]\n",
      " [8]] (9, 1)\n"
     ]
    }
   ],
   "source": [
    "a = np.arange(9) # 1-D array\n",
    "print(a,a.shape)\n",
    "b = a[np.newaxis,:] # Converted to 2-D array with single row\n",
    "print(b,b.shape)\n",
    "c = np.expand_dims(a,1) # Converted to 2-D array with single column\n",
    "print(c,c.shape)"
   ]
  },
  {
   "cell_type": "markdown",
   "metadata": {},
   "source": [
    "## 5. Stacking arrays"
   ]
  },
  {
   "cell_type": "code",
   "execution_count": 60,
   "metadata": {},
   "outputs": [
    {
     "name": "stdout",
     "output_type": "stream",
     "text": [
      "[[1 0 0]\n",
      " [0 1 0]\n",
      " [0 0 1]]\n",
      "[[1 0 0]\n",
      " [0 1 0]\n",
      " [0 0 1]]\n",
      "[[1 0 0 1 0 0]\n",
      " [0 1 0 0 1 0]\n",
      " [0 0 1 0 0 1]]\n",
      "[[1 0 0]\n",
      " [0 1 0]\n",
      " [0 0 1]\n",
      " [1 0 0]\n",
      " [0 1 0]\n",
      " [0 0 1]]\n"
     ]
    }
   ],
   "source": [
    "a = np.identity(3,int)\n",
    "b = np.identity(3,int)\n",
    "print(a)\n",
    "print(b)\n",
    "print(np.hstack([a,b])) # Print horizontally stacked arrays\n",
    "print(np.vstack([a,b])) # Print vertically stacked arrays\n"
   ]
  },
  {
   "cell_type": "markdown",
   "metadata": {},
   "source": [
    "## 6. Unique elements of array"
   ]
  },
  {
   "cell_type": "code",
   "execution_count": 76,
   "metadata": {},
   "outputs": [
    {
     "name": "stdout",
     "output_type": "stream",
     "text": [
      "[6 0 0 0 7 7 9 0 3 4 2 8 7 2 5 1 4 0 6 3 9 4 7 0 9 8 0 2 4 5 1 2 4 5 5 1 7\n",
      " 5 6 3 5 8 3 2 1 5 5 8 0 1]\n",
      "0 : 8\n",
      "1 : 5\n",
      "2 : 5\n",
      "3 : 4\n",
      "4 : 5\n",
      "5 : 8\n",
      "6 : 3\n",
      "7 : 5\n",
      "8 : 4\n",
      "9 : 3\n"
     ]
    }
   ],
   "source": [
    "a = np.random.randint(0,10,50) # Generate test array of 50 random digits\n",
    "print(a)\n",
    "u,u_counts = np.unique(a,return_counts=True) # Produce array of unique values and their counts\n",
    "for i in range(len(u)):\n",
    "    print(u[i],':',u_counts[i])"
   ]
  }
 ],
 "metadata": {
  "kernelspec": {
   "display_name": "Python 3",
   "language": "python",
   "name": "python3"
  },
  "language_info": {
   "codemirror_mode": {
    "name": "ipython",
    "version": 3
   },
   "file_extension": ".py",
   "mimetype": "text/x-python",
   "name": "python",
   "nbconvert_exporter": "python",
   "pygments_lexer": "ipython3",
   "version": "3.8.3"
  }
 },
 "nbformat": 4,
 "nbformat_minor": 4
}
